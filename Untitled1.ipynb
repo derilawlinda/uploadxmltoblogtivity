{
 "cells": [
  {
   "cell_type": "code",
   "execution_count": 1,
   "metadata": {},
   "outputs": [],
   "source": [
    "from numpy.core.numeric import NaN\n",
    "import requests\n",
    "from requests_toolbelt.multipart.encoder import MultipartEncoder\n",
    "import pandas as pd\n",
    "from bs4 import BeautifulSoup\n",
    "import os\n",
    "import argparse\n",
    "from halo import Halo"
   ]
  },
  {
   "cell_type": "code",
   "execution_count": 3,
   "metadata": {},
   "outputs": [
    {
     "name": "stdout",
     "output_type": "stream",
     "text": [
      "Logging in to blogtivity..\n",
      "Logged in\n",
      "Cek untuk data baru..\n"
     ]
    }
   ],
   "source": [
    "api = \"https://daryna.blogtivity.id/log/login\"\n",
    "body = \"username=\"+\"axa_suksesd640e\"+\"&password=\"+\"derilalwinda#\"\n",
    "with requests.Session() as s:\n",
    "    print(\"Logging in to blogtivity..\")\n",
    "    req = s.get(\"https://daryna.blogtivity.id/log/\")\n",
    "    cookie = {'PHPSESSID': req.cookies['PHPSESSID']}\n",
    "    r = s.post(api, data=body, cookies=cookie,headers={\n",
    "    \"Host\": \"daryna.blogtivity.id\",\n",
    "    \"Accept\": \"text/html,application/xhtml+xml,application/xml;q=0.9,image/avif,image/webp,image/apng,*/*;q=0.8,application/signed-exchange;v=b3;q=0.9\",\n",
    "    \"Accept-Encoding\": \"gzip, deflate, br\",\n",
    "    \"Accept-Language\": \"id-ID,id;q=0.9,en-US;q=0.8,en;q=0.7,af;q=0.6,ms;q=0.5\",\n",
    "    \"Cache-Control\": \"max-age=0\",\n",
    "    \"Content-Length\": str(len(body)),\n",
    "    \"Content-Type\": \"application/x-www-form-urlencoded\",\n",
    "    \"Origin\": \"https://daryna.blogtivity.id\",\n",
    "    \"Referer\": \"https://daryna.blogtivity.id/log/index/status/EhjT1YDERZ5gxbLl5pYoMwgQY2kEtwW4M1RBRWJ0SnlzQkRGT2JvRVMxSGJsQT09nw8WiR3yjLWv4UZ5iTJ7E1cDqQCYjUGG\",\n",
    "    \"Upgrade-Insecure-Requests\": \"1\",\n",
    "    \"User-Agent\" : \"Mozilla/5.0 (Macintosh; Intel Mac OS X 10_15_7) AppleWebKit/537.36 (KHTML, like Gecko) Chrome/92.0.4515.159 Safari/537.36\"\n",
    "    })\n",
    "    if \"Blogtivity Admin | Dashboard\" in r.text:\n",
    "        print(\"Logged in\")\n",
    "        print(\"Cek untuk data baru..\")\n",
    "        blogs = s.get(\"https://daryna.blogtivity.id/accounts/blog\",cookies=cookie)\n",
    "        soup = BeautifulSoup(blogs.text, \"html.parser\")\n",
    "        rows = soup.find_all('table')[0].find_all(\"tr\")\n",
    "        df_new = pd.DataFrame()  \n",
    "        for row in rows:\n",
    "            cells = row.find_all('td')\n",
    "            if(len(cells) > 0):\n",
    "                new_row = {\n",
    "                    \"id\" : cells[0].text,\n",
    "                    \"blog_title\" : cells[2].text,\n",
    "                    \"blog_url\" : cells[2].find('a')['href'],\n",
    "                }\n",
    "                df_new = df_new.append(new_row, ignore_index=True)\n",
    "\n",
    "        df_new[\"xml\"] = \"-\"\n",
    "        df_new = df_new.set_index('id')"
   ]
  },
  {
   "cell_type": "code",
   "execution_count": 7,
   "metadata": {},
   "outputs": [
    {
     "data": {
      "text/plain": [
       "Index(['1', '2', '3', '4', '5', '6', '7', '8', '9', '10',\n",
       "       ...\n",
       "       '1546', '1547', '1548', '1549', '1550', '1551', '1552', '1553', '1554',\n",
       "       '1555'],\n",
       "      dtype='object', name='id', length=1555)"
      ]
     },
     "execution_count": 7,
     "metadata": {},
     "output_type": "execute_result"
    }
   ],
   "source": [
    "df_new.index"
   ]
  },
  {
   "cell_type": "code",
   "execution_count": 8,
   "metadata": {},
   "outputs": [],
   "source": [
    "df_new.to_csv(\"df_new.csv\")"
   ]
  },
  {
   "cell_type": "code",
   "execution_count": 9,
   "metadata": {},
   "outputs": [],
   "source": [
    "df_old = pd.read_csv(\"df_new.csv\")"
   ]
  },
  {
   "cell_type": "code",
   "execution_count": 11,
   "metadata": {},
   "outputs": [
    {
     "data": {
      "text/plain": [
       "0          1\n",
       "1          2\n",
       "2          3\n",
       "3          4\n",
       "4          5\n",
       "        ... \n",
       "1550    1551\n",
       "1551    1552\n",
       "1552    1553\n",
       "1553    1554\n",
       "1554    1555\n",
       "Name: id, Length: 1555, dtype: int64"
      ]
     },
     "execution_count": 11,
     "metadata": {},
     "output_type": "execute_result"
    }
   ],
   "source": [
    "df_old[\"id\"]"
   ]
  },
  {
   "cell_type": "code",
   "execution_count": 12,
   "metadata": {},
   "outputs": [],
   "source": [
    "df_new[\"id\"] = df_new.index"
   ]
  },
  {
   "cell_type": "code",
   "execution_count": 20,
   "metadata": {},
   "outputs": [
    {
     "data": {
      "text/html": [
       "<div>\n",
       "<style scoped>\n",
       "    .dataframe tbody tr th:only-of-type {\n",
       "        vertical-align: middle;\n",
       "    }\n",
       "\n",
       "    .dataframe tbody tr th {\n",
       "        vertical-align: top;\n",
       "    }\n",
       "\n",
       "    .dataframe thead th {\n",
       "        text-align: right;\n",
       "    }\n",
       "</style>\n",
       "<table border=\"1\" class=\"dataframe\">\n",
       "  <thead>\n",
       "    <tr style=\"text-align: right;\">\n",
       "      <th></th>\n",
       "      <th>id</th>\n",
       "      <th>blog_title</th>\n",
       "      <th>blog_url</th>\n",
       "      <th>xml</th>\n",
       "    </tr>\n",
       "  </thead>\n",
       "  <tbody>\n",
       "    <tr>\n",
       "      <th>0</th>\n",
       "      <td>1</td>\n",
       "      <td>szilviolvas</td>\n",
       "      <td>https://daryna.blogtivity.id/accounts/blogdeta...</td>\n",
       "      <td>-</td>\n",
       "    </tr>\n",
       "    <tr>\n",
       "      <th>1</th>\n",
       "      <td>2</td>\n",
       "      <td>thesoftwaretop</td>\n",
       "      <td>https://daryna.blogtivity.id/accounts/blogdeta...</td>\n",
       "      <td>-</td>\n",
       "    </tr>\n",
       "    <tr>\n",
       "      <th>2</th>\n",
       "      <td>3</td>\n",
       "      <td>softwarenewpad</td>\n",
       "      <td>https://daryna.blogtivity.id/accounts/blogdeta...</td>\n",
       "      <td>-</td>\n",
       "    </tr>\n",
       "    <tr>\n",
       "      <th>3</th>\n",
       "      <td>4</td>\n",
       "      <td>thesbreview</td>\n",
       "      <td>https://daryna.blogtivity.id/accounts/blogdeta...</td>\n",
       "      <td>-</td>\n",
       "    </tr>\n",
       "    <tr>\n",
       "      <th>4</th>\n",
       "      <td>5</td>\n",
       "      <td>carautosports</td>\n",
       "      <td>https://daryna.blogtivity.id/accounts/blogdeta...</td>\n",
       "      <td>-</td>\n",
       "    </tr>\n",
       "    <tr>\n",
       "      <th>...</th>\n",
       "      <td>...</td>\n",
       "      <td>...</td>\n",
       "      <td>...</td>\n",
       "      <td>...</td>\n",
       "    </tr>\n",
       "    <tr>\n",
       "      <th>1550</th>\n",
       "      <td>1551</td>\n",
       "      <td>Food Manor</td>\n",
       "      <td>https://daryna.blogtivity.id/accounts/blogdeta...</td>\n",
       "      <td>-</td>\n",
       "    </tr>\n",
       "    <tr>\n",
       "      <th>1551</th>\n",
       "      <td>1552</td>\n",
       "      <td>Food Lounge</td>\n",
       "      <td>https://daryna.blogtivity.id/accounts/blogdeta...</td>\n",
       "      <td>-</td>\n",
       "    </tr>\n",
       "    <tr>\n",
       "      <th>1552</th>\n",
       "      <td>1553</td>\n",
       "      <td>Food Lobby</td>\n",
       "      <td>https://daryna.blogtivity.id/accounts/blogdeta...</td>\n",
       "      <td>-</td>\n",
       "    </tr>\n",
       "    <tr>\n",
       "      <th>1553</th>\n",
       "      <td>1554</td>\n",
       "      <td>Food Lane</td>\n",
       "      <td>https://daryna.blogtivity.id/accounts/blogdeta...</td>\n",
       "      <td>-</td>\n",
       "    </tr>\n",
       "    <tr>\n",
       "      <th>1554</th>\n",
       "      <td>1555</td>\n",
       "      <td>Food Lab</td>\n",
       "      <td>https://daryna.blogtivity.id/accounts/blogdeta...</td>\n",
       "      <td>-</td>\n",
       "    </tr>\n",
       "  </tbody>\n",
       "</table>\n",
       "<p>1555 rows × 4 columns</p>\n",
       "</div>"
      ],
      "text/plain": [
       "        id      blog_title                                           blog_url  \\\n",
       "0        1     szilviolvas  https://daryna.blogtivity.id/accounts/blogdeta...   \n",
       "1        2  thesoftwaretop  https://daryna.blogtivity.id/accounts/blogdeta...   \n",
       "2        3  softwarenewpad  https://daryna.blogtivity.id/accounts/blogdeta...   \n",
       "3        4     thesbreview  https://daryna.blogtivity.id/accounts/blogdeta...   \n",
       "4        5   carautosports  https://daryna.blogtivity.id/accounts/blogdeta...   \n",
       "...    ...             ...                                                ...   \n",
       "1550  1551      Food Manor  https://daryna.blogtivity.id/accounts/blogdeta...   \n",
       "1551  1552     Food Lounge  https://daryna.blogtivity.id/accounts/blogdeta...   \n",
       "1552  1553      Food Lobby  https://daryna.blogtivity.id/accounts/blogdeta...   \n",
       "1553  1554       Food Lane  https://daryna.blogtivity.id/accounts/blogdeta...   \n",
       "1554  1555        Food Lab  https://daryna.blogtivity.id/accounts/blogdeta...   \n",
       "\n",
       "     xml  \n",
       "0      -  \n",
       "1      -  \n",
       "2      -  \n",
       "3      -  \n",
       "4      -  \n",
       "...   ..  \n",
       "1550   -  \n",
       "1551   -  \n",
       "1552   -  \n",
       "1553   -  \n",
       "1554   -  \n",
       "\n",
       "[1555 rows x 4 columns]"
      ]
     },
     "execution_count": 20,
     "metadata": {},
     "output_type": "execute_result"
    }
   ],
   "source": [
    "df_old"
   ]
  },
  {
   "cell_type": "code",
   "execution_count": 21,
   "metadata": {},
   "outputs": [],
   "source": [
    "df_old.at[1502, 'xml'] = \"blogspot-e12.xml\"\n",
    "df_old.at[1503, 'xml'] = \"blogspot-e11.xml\"\n",
    "df_old.at[1504, 'xml'] = \"blogspot-e10.xml\"\n",
    "df_old.at[1505, 'xml'] = \"blogspot-e1.xml\""
   ]
  },
  {
   "cell_type": "code",
   "execution_count": 22,
   "metadata": {},
   "outputs": [
    {
     "data": {
      "text/html": [
       "<div>\n",
       "<style scoped>\n",
       "    .dataframe tbody tr th:only-of-type {\n",
       "        vertical-align: middle;\n",
       "    }\n",
       "\n",
       "    .dataframe tbody tr th {\n",
       "        vertical-align: top;\n",
       "    }\n",
       "\n",
       "    .dataframe thead th {\n",
       "        text-align: right;\n",
       "    }\n",
       "</style>\n",
       "<table border=\"1\" class=\"dataframe\">\n",
       "  <thead>\n",
       "    <tr style=\"text-align: right;\">\n",
       "      <th></th>\n",
       "      <th>blog_title</th>\n",
       "      <th>blog_url</th>\n",
       "      <th>xml</th>\n",
       "    </tr>\n",
       "    <tr>\n",
       "      <th>id</th>\n",
       "      <th></th>\n",
       "      <th></th>\n",
       "      <th></th>\n",
       "    </tr>\n",
       "  </thead>\n",
       "  <tbody>\n",
       "    <tr>\n",
       "      <th>1</th>\n",
       "      <td>szilviolvas</td>\n",
       "      <td>https://daryna.blogtivity.id/accounts/blogdeta...</td>\n",
       "      <td>-</td>\n",
       "    </tr>\n",
       "    <tr>\n",
       "      <th>2</th>\n",
       "      <td>thesoftwaretop</td>\n",
       "      <td>https://daryna.blogtivity.id/accounts/blogdeta...</td>\n",
       "      <td>-</td>\n",
       "    </tr>\n",
       "    <tr>\n",
       "      <th>3</th>\n",
       "      <td>softwarenewpad</td>\n",
       "      <td>https://daryna.blogtivity.id/accounts/blogdeta...</td>\n",
       "      <td>-</td>\n",
       "    </tr>\n",
       "    <tr>\n",
       "      <th>4</th>\n",
       "      <td>thesbreview</td>\n",
       "      <td>https://daryna.blogtivity.id/accounts/blogdeta...</td>\n",
       "      <td>-</td>\n",
       "    </tr>\n",
       "    <tr>\n",
       "      <th>5</th>\n",
       "      <td>carautosports</td>\n",
       "      <td>https://daryna.blogtivity.id/accounts/blogdeta...</td>\n",
       "      <td>-</td>\n",
       "    </tr>\n",
       "    <tr>\n",
       "      <th>...</th>\n",
       "      <td>...</td>\n",
       "      <td>...</td>\n",
       "      <td>...</td>\n",
       "    </tr>\n",
       "    <tr>\n",
       "      <th>1551</th>\n",
       "      <td>Food Manor</td>\n",
       "      <td>https://daryna.blogtivity.id/accounts/blogdeta...</td>\n",
       "      <td>-</td>\n",
       "    </tr>\n",
       "    <tr>\n",
       "      <th>1552</th>\n",
       "      <td>Food Lounge</td>\n",
       "      <td>https://daryna.blogtivity.id/accounts/blogdeta...</td>\n",
       "      <td>-</td>\n",
       "    </tr>\n",
       "    <tr>\n",
       "      <th>1553</th>\n",
       "      <td>Food Lobby</td>\n",
       "      <td>https://daryna.blogtivity.id/accounts/blogdeta...</td>\n",
       "      <td>-</td>\n",
       "    </tr>\n",
       "    <tr>\n",
       "      <th>1554</th>\n",
       "      <td>Food Lane</td>\n",
       "      <td>https://daryna.blogtivity.id/accounts/blogdeta...</td>\n",
       "      <td>-</td>\n",
       "    </tr>\n",
       "    <tr>\n",
       "      <th>1555</th>\n",
       "      <td>Food Lab</td>\n",
       "      <td>https://daryna.blogtivity.id/accounts/blogdeta...</td>\n",
       "      <td>-</td>\n",
       "    </tr>\n",
       "  </tbody>\n",
       "</table>\n",
       "<p>1555 rows × 3 columns</p>\n",
       "</div>"
      ],
      "text/plain": [
       "          blog_title                                           blog_url xml\n",
       "id                                                                         \n",
       "1        szilviolvas  https://daryna.blogtivity.id/accounts/blogdeta...   -\n",
       "2     thesoftwaretop  https://daryna.blogtivity.id/accounts/blogdeta...   -\n",
       "3     softwarenewpad  https://daryna.blogtivity.id/accounts/blogdeta...   -\n",
       "4        thesbreview  https://daryna.blogtivity.id/accounts/blogdeta...   -\n",
       "5      carautosports  https://daryna.blogtivity.id/accounts/blogdeta...   -\n",
       "...              ...                                                ...  ..\n",
       "1551      Food Manor  https://daryna.blogtivity.id/accounts/blogdeta...   -\n",
       "1552     Food Lounge  https://daryna.blogtivity.id/accounts/blogdeta...   -\n",
       "1553      Food Lobby  https://daryna.blogtivity.id/accounts/blogdeta...   -\n",
       "1554       Food Lane  https://daryna.blogtivity.id/accounts/blogdeta...   -\n",
       "1555        Food Lab  https://daryna.blogtivity.id/accounts/blogdeta...   -\n",
       "\n",
       "[1555 rows x 3 columns]"
      ]
     },
     "execution_count": 22,
     "metadata": {},
     "output_type": "execute_result"
    }
   ],
   "source": [
    "df_old.set_index(\"id\")"
   ]
  },
  {
   "cell_type": "code",
   "execution_count": 23,
   "metadata": {},
   "outputs": [],
   "source": [
    "df_old.to_csv(\"blogs.csv\")"
   ]
  },
  {
   "cell_type": "code",
   "execution_count": 25,
   "metadata": {},
   "outputs": [],
   "source": [
    "df_old = pd.read_csv(\"blogs.csv\")"
   ]
  },
  {
   "cell_type": "code",
   "execution_count": 27,
   "metadata": {},
   "outputs": [
    {
     "data": {
      "text/html": [
       "<div>\n",
       "<style scoped>\n",
       "    .dataframe tbody tr th:only-of-type {\n",
       "        vertical-align: middle;\n",
       "    }\n",
       "\n",
       "    .dataframe tbody tr th {\n",
       "        vertical-align: top;\n",
       "    }\n",
       "\n",
       "    .dataframe thead th {\n",
       "        text-align: right;\n",
       "    }\n",
       "</style>\n",
       "<table border=\"1\" class=\"dataframe\">\n",
       "  <thead>\n",
       "    <tr style=\"text-align: right;\">\n",
       "      <th></th>\n",
       "      <th>id</th>\n",
       "      <th>xml</th>\n",
       "    </tr>\n",
       "  </thead>\n",
       "  <tbody>\n",
       "    <tr>\n",
       "      <th>0</th>\n",
       "      <td>1</td>\n",
       "      <td>-</td>\n",
       "    </tr>\n",
       "    <tr>\n",
       "      <th>1</th>\n",
       "      <td>2</td>\n",
       "      <td>-</td>\n",
       "    </tr>\n",
       "    <tr>\n",
       "      <th>2</th>\n",
       "      <td>3</td>\n",
       "      <td>-</td>\n",
       "    </tr>\n",
       "    <tr>\n",
       "      <th>3</th>\n",
       "      <td>4</td>\n",
       "      <td>-</td>\n",
       "    </tr>\n",
       "    <tr>\n",
       "      <th>4</th>\n",
       "      <td>5</td>\n",
       "      <td>-</td>\n",
       "    </tr>\n",
       "    <tr>\n",
       "      <th>...</th>\n",
       "      <td>...</td>\n",
       "      <td>...</td>\n",
       "    </tr>\n",
       "    <tr>\n",
       "      <th>1550</th>\n",
       "      <td>1551</td>\n",
       "      <td>-</td>\n",
       "    </tr>\n",
       "    <tr>\n",
       "      <th>1551</th>\n",
       "      <td>1552</td>\n",
       "      <td>-</td>\n",
       "    </tr>\n",
       "    <tr>\n",
       "      <th>1552</th>\n",
       "      <td>1553</td>\n",
       "      <td>-</td>\n",
       "    </tr>\n",
       "    <tr>\n",
       "      <th>1553</th>\n",
       "      <td>1554</td>\n",
       "      <td>-</td>\n",
       "    </tr>\n",
       "    <tr>\n",
       "      <th>1554</th>\n",
       "      <td>1555</td>\n",
       "      <td>-</td>\n",
       "    </tr>\n",
       "  </tbody>\n",
       "</table>\n",
       "<p>1555 rows × 2 columns</p>\n",
       "</div>"
      ],
      "text/plain": [
       "        id xml\n",
       "0        1   -\n",
       "1        2   -\n",
       "2        3   -\n",
       "3        4   -\n",
       "4        5   -\n",
       "...    ...  ..\n",
       "1550  1551   -\n",
       "1551  1552   -\n",
       "1552  1553   -\n",
       "1553  1554   -\n",
       "1554  1555   -\n",
       "\n",
       "[1555 rows x 2 columns]"
      ]
     },
     "execution_count": 27,
     "metadata": {},
     "output_type": "execute_result"
    }
   ],
   "source": [
    "df_old[[\"id\",\"xml\"]]"
   ]
  },
  {
   "cell_type": "code",
   "execution_count": 37,
   "metadata": {},
   "outputs": [
    {
     "data": {
      "text/html": [
       "<div>\n",
       "<style scoped>\n",
       "    .dataframe tbody tr th:only-of-type {\n",
       "        vertical-align: middle;\n",
       "    }\n",
       "\n",
       "    .dataframe tbody tr th {\n",
       "        vertical-align: top;\n",
       "    }\n",
       "\n",
       "    .dataframe thead th {\n",
       "        text-align: right;\n",
       "    }\n",
       "</style>\n",
       "<table border=\"1\" class=\"dataframe\">\n",
       "  <thead>\n",
       "    <tr style=\"text-align: right;\">\n",
       "      <th></th>\n",
       "      <th>Unnamed: 0</th>\n",
       "      <th>id</th>\n",
       "      <th>blog_title</th>\n",
       "      <th>blog_url</th>\n",
       "      <th>xml</th>\n",
       "    </tr>\n",
       "  </thead>\n",
       "  <tbody>\n",
       "    <tr>\n",
       "      <th>0</th>\n",
       "      <td>0</td>\n",
       "      <td>1</td>\n",
       "      <td>szilviolvas</td>\n",
       "      <td>https://daryna.blogtivity.id/accounts/blogdeta...</td>\n",
       "      <td>-</td>\n",
       "    </tr>\n",
       "    <tr>\n",
       "      <th>1</th>\n",
       "      <td>1</td>\n",
       "      <td>2</td>\n",
       "      <td>thesoftwaretop</td>\n",
       "      <td>https://daryna.blogtivity.id/accounts/blogdeta...</td>\n",
       "      <td>-</td>\n",
       "    </tr>\n",
       "    <tr>\n",
       "      <th>2</th>\n",
       "      <td>2</td>\n",
       "      <td>3</td>\n",
       "      <td>softwarenewpad</td>\n",
       "      <td>https://daryna.blogtivity.id/accounts/blogdeta...</td>\n",
       "      <td>-</td>\n",
       "    </tr>\n",
       "    <tr>\n",
       "      <th>3</th>\n",
       "      <td>3</td>\n",
       "      <td>4</td>\n",
       "      <td>thesbreview</td>\n",
       "      <td>https://daryna.blogtivity.id/accounts/blogdeta...</td>\n",
       "      <td>-</td>\n",
       "    </tr>\n",
       "    <tr>\n",
       "      <th>4</th>\n",
       "      <td>4</td>\n",
       "      <td>5</td>\n",
       "      <td>carautosports</td>\n",
       "      <td>https://daryna.blogtivity.id/accounts/blogdeta...</td>\n",
       "      <td>-</td>\n",
       "    </tr>\n",
       "    <tr>\n",
       "      <th>...</th>\n",
       "      <td>...</td>\n",
       "      <td>...</td>\n",
       "      <td>...</td>\n",
       "      <td>...</td>\n",
       "      <td>...</td>\n",
       "    </tr>\n",
       "    <tr>\n",
       "      <th>1550</th>\n",
       "      <td>1550</td>\n",
       "      <td>1551</td>\n",
       "      <td>Food Manor</td>\n",
       "      <td>https://daryna.blogtivity.id/accounts/blogdeta...</td>\n",
       "      <td>-</td>\n",
       "    </tr>\n",
       "    <tr>\n",
       "      <th>1551</th>\n",
       "      <td>1551</td>\n",
       "      <td>1552</td>\n",
       "      <td>Food Lounge</td>\n",
       "      <td>https://daryna.blogtivity.id/accounts/blogdeta...</td>\n",
       "      <td>-</td>\n",
       "    </tr>\n",
       "    <tr>\n",
       "      <th>1552</th>\n",
       "      <td>1552</td>\n",
       "      <td>1553</td>\n",
       "      <td>Food Lobby</td>\n",
       "      <td>https://daryna.blogtivity.id/accounts/blogdeta...</td>\n",
       "      <td>-</td>\n",
       "    </tr>\n",
       "    <tr>\n",
       "      <th>1553</th>\n",
       "      <td>1553</td>\n",
       "      <td>1554</td>\n",
       "      <td>Food Lane</td>\n",
       "      <td>https://daryna.blogtivity.id/accounts/blogdeta...</td>\n",
       "      <td>-</td>\n",
       "    </tr>\n",
       "    <tr>\n",
       "      <th>1554</th>\n",
       "      <td>1554</td>\n",
       "      <td>1555</td>\n",
       "      <td>Food Lab</td>\n",
       "      <td>https://daryna.blogtivity.id/accounts/blogdeta...</td>\n",
       "      <td>-</td>\n",
       "    </tr>\n",
       "  </tbody>\n",
       "</table>\n",
       "<p>1555 rows × 5 columns</p>\n",
       "</div>"
      ],
      "text/plain": [
       "      Unnamed: 0    id      blog_title  \\\n",
       "0              0     1     szilviolvas   \n",
       "1              1     2  thesoftwaretop   \n",
       "2              2     3  softwarenewpad   \n",
       "3              3     4     thesbreview   \n",
       "4              4     5   carautosports   \n",
       "...          ...   ...             ...   \n",
       "1550        1550  1551      Food Manor   \n",
       "1551        1551  1552     Food Lounge   \n",
       "1552        1552  1553      Food Lobby   \n",
       "1553        1553  1554       Food Lane   \n",
       "1554        1554  1555        Food Lab   \n",
       "\n",
       "                                               blog_url xml  \n",
       "0     https://daryna.blogtivity.id/accounts/blogdeta...   -  \n",
       "1     https://daryna.blogtivity.id/accounts/blogdeta...   -  \n",
       "2     https://daryna.blogtivity.id/accounts/blogdeta...   -  \n",
       "3     https://daryna.blogtivity.id/accounts/blogdeta...   -  \n",
       "4     https://daryna.blogtivity.id/accounts/blogdeta...   -  \n",
       "...                                                 ...  ..  \n",
       "1550  https://daryna.blogtivity.id/accounts/blogdeta...   -  \n",
       "1551  https://daryna.blogtivity.id/accounts/blogdeta...   -  \n",
       "1552  https://daryna.blogtivity.id/accounts/blogdeta...   -  \n",
       "1553  https://daryna.blogtivity.id/accounts/blogdeta...   -  \n",
       "1554  https://daryna.blogtivity.id/accounts/blogdeta...   -  \n",
       "\n",
       "[1555 rows x 5 columns]"
      ]
     },
     "execution_count": 37,
     "metadata": {},
     "output_type": "execute_result"
    }
   ],
   "source": [
    "df_old = pd.read_csv(\"blogs.csv\")\n",
    "df_old"
   ]
  },
  {
   "cell_type": "code",
   "execution_count": 44,
   "metadata": {},
   "outputs": [],
   "source": [
    "df_new = pd.read_csv(\"test.csv\")"
   ]
  },
  {
   "cell_type": "code",
   "execution_count": 45,
   "metadata": {},
   "outputs": [],
   "source": [
    "df_new['xml'] = df_new[\"id\"].map(df_old.set_index('id')['xml'])"
   ]
  },
  {
   "cell_type": "code",
   "execution_count": 46,
   "metadata": {},
   "outputs": [
    {
     "data": {
      "text/html": [
       "<div>\n",
       "<style scoped>\n",
       "    .dataframe tbody tr th:only-of-type {\n",
       "        vertical-align: middle;\n",
       "    }\n",
       "\n",
       "    .dataframe tbody tr th {\n",
       "        vertical-align: top;\n",
       "    }\n",
       "\n",
       "    .dataframe thead th {\n",
       "        text-align: right;\n",
       "    }\n",
       "</style>\n",
       "<table border=\"1\" class=\"dataframe\">\n",
       "  <thead>\n",
       "    <tr style=\"text-align: right;\">\n",
       "      <th></th>\n",
       "      <th>id</th>\n",
       "      <th>blog_title</th>\n",
       "      <th>blog_url</th>\n",
       "      <th>xml</th>\n",
       "    </tr>\n",
       "  </thead>\n",
       "  <tbody>\n",
       "    <tr>\n",
       "      <th>1502</th>\n",
       "      <td>1503</td>\n",
       "      <td>Food Bay</td>\n",
       "      <td>https://daryna.blogtivity.id/accounts/blogdeta...</td>\n",
       "      <td>blogspot-e12.xml</td>\n",
       "    </tr>\n",
       "    <tr>\n",
       "      <th>1503</th>\n",
       "      <td>1504</td>\n",
       "      <td>Food Base</td>\n",
       "      <td>https://daryna.blogtivity.id/accounts/blogdeta...</td>\n",
       "      <td>blogspot-e11.xml</td>\n",
       "    </tr>\n",
       "    <tr>\n",
       "      <th>1504</th>\n",
       "      <td>1505</td>\n",
       "      <td>Food Barn</td>\n",
       "      <td>https://daryna.blogtivity.id/accounts/blogdeta...</td>\n",
       "      <td>blogspot-e10.xml</td>\n",
       "    </tr>\n",
       "    <tr>\n",
       "      <th>1505</th>\n",
       "      <td>1506</td>\n",
       "      <td>Food Avenue</td>\n",
       "      <td>https://daryna.blogtivity.id/accounts/blogdeta...</td>\n",
       "      <td>blogspot-e1.xml</td>\n",
       "    </tr>\n",
       "  </tbody>\n",
       "</table>\n",
       "</div>"
      ],
      "text/plain": [
       "        id   blog_title                                           blog_url  \\\n",
       "1502  1503     Food Bay  https://daryna.blogtivity.id/accounts/blogdeta...   \n",
       "1503  1504    Food Base  https://daryna.blogtivity.id/accounts/blogdeta...   \n",
       "1504  1505    Food Barn  https://daryna.blogtivity.id/accounts/blogdeta...   \n",
       "1505  1506  Food Avenue  https://daryna.blogtivity.id/accounts/blogdeta...   \n",
       "\n",
       "                   xml  \n",
       "1502  blogspot-e12.xml  \n",
       "1503  blogspot-e11.xml  \n",
       "1504  blogspot-e10.xml  \n",
       "1505   blogspot-e1.xml  "
      ]
     },
     "execution_count": 46,
     "metadata": {},
     "output_type": "execute_result"
    }
   ],
   "source": [
    "df_new[df_new[\"xml\"] != \"-\"]"
   ]
  },
  {
   "cell_type": "code",
   "execution_count": 55,
   "metadata": {},
   "outputs": [],
   "source": [
    "df_old = pd.read_csv(\"blogs.csv\")\n",
    "df_old = df_old[df_old[\"xml\"] != \"-\"][[\"id\",\"xml\"]]"
   ]
  },
  {
   "cell_type": "code",
   "execution_count": 56,
   "metadata": {},
   "outputs": [
    {
     "data": {
      "text/html": [
       "<div>\n",
       "<style scoped>\n",
       "    .dataframe tbody tr th:only-of-type {\n",
       "        vertical-align: middle;\n",
       "    }\n",
       "\n",
       "    .dataframe tbody tr th {\n",
       "        vertical-align: top;\n",
       "    }\n",
       "\n",
       "    .dataframe thead th {\n",
       "        text-align: right;\n",
       "    }\n",
       "</style>\n",
       "<table border=\"1\" class=\"dataframe\">\n",
       "  <thead>\n",
       "    <tr style=\"text-align: right;\">\n",
       "      <th></th>\n",
       "      <th>id</th>\n",
       "      <th>xml</th>\n",
       "    </tr>\n",
       "  </thead>\n",
       "  <tbody>\n",
       "    <tr>\n",
       "      <th>1502</th>\n",
       "      <td>1503</td>\n",
       "      <td>blogspot-e12.xml</td>\n",
       "    </tr>\n",
       "    <tr>\n",
       "      <th>1503</th>\n",
       "      <td>1504</td>\n",
       "      <td>blogspot-e11.xml</td>\n",
       "    </tr>\n",
       "    <tr>\n",
       "      <th>1504</th>\n",
       "      <td>1505</td>\n",
       "      <td>blogspot-e10.xml</td>\n",
       "    </tr>\n",
       "    <tr>\n",
       "      <th>1505</th>\n",
       "      <td>1506</td>\n",
       "      <td>blogspot-e1.xml</td>\n",
       "    </tr>\n",
       "  </tbody>\n",
       "</table>\n",
       "</div>"
      ],
      "text/plain": [
       "        id               xml\n",
       "1502  1503  blogspot-e12.xml\n",
       "1503  1504  blogspot-e11.xml\n",
       "1504  1505  blogspot-e10.xml\n",
       "1505  1506   blogspot-e1.xml"
      ]
     },
     "execution_count": 56,
     "metadata": {},
     "output_type": "execute_result"
    }
   ],
   "source": [
    "df_old"
   ]
  },
  {
   "cell_type": "code",
   "execution_count": 65,
   "metadata": {},
   "outputs": [],
   "source": [
    "df_old = pd.read_csv(\"blogs.csv\")"
   ]
  },
  {
   "cell_type": "code",
   "execution_count": 66,
   "metadata": {},
   "outputs": [],
   "source": [
    "df_old = df_old[df_old[\"xml\"] != \"-\"][[\"id\",\"xml\"]].set_index(\"id\")"
   ]
  },
  {
   "cell_type": "code",
   "execution_count": 79,
   "metadata": {},
   "outputs": [],
   "source": [
    "for index, row in df_old.iterrows():\n",
    "    df_new.at[index,\"xml\"] = row[\"xml\"]"
   ]
  },
  {
   "cell_type": "code",
   "execution_count": 77,
   "metadata": {},
   "outputs": [],
   "source": [
    "df_new[\"xml\"] = \"-\""
   ]
  },
  {
   "cell_type": "code",
   "execution_count": 75,
   "metadata": {},
   "outputs": [],
   "source": [
    "df_new['xml'] = df_new.index.map(df_old['xml'])"
   ]
  },
  {
   "cell_type": "code",
   "execution_count": 76,
   "metadata": {},
   "outputs": [
    {
     "data": {
      "text/html": [
       "<div>\n",
       "<style scoped>\n",
       "    .dataframe tbody tr th:only-of-type {\n",
       "        vertical-align: middle;\n",
       "    }\n",
       "\n",
       "    .dataframe tbody tr th {\n",
       "        vertical-align: top;\n",
       "    }\n",
       "\n",
       "    .dataframe thead th {\n",
       "        text-align: right;\n",
       "    }\n",
       "</style>\n",
       "<table border=\"1\" class=\"dataframe\">\n",
       "  <thead>\n",
       "    <tr style=\"text-align: right;\">\n",
       "      <th></th>\n",
       "      <th>id</th>\n",
       "      <th>blog_title</th>\n",
       "      <th>blog_url</th>\n",
       "      <th>xml</th>\n",
       "    </tr>\n",
       "  </thead>\n",
       "  <tbody>\n",
       "    <tr>\n",
       "      <th>0</th>\n",
       "      <td>1</td>\n",
       "      <td>szilviolvas</td>\n",
       "      <td>https://daryna.blogtivity.id/accounts/blogdeta...</td>\n",
       "      <td>NaN</td>\n",
       "    </tr>\n",
       "    <tr>\n",
       "      <th>1</th>\n",
       "      <td>2</td>\n",
       "      <td>thesoftwaretop</td>\n",
       "      <td>https://daryna.blogtivity.id/accounts/blogdeta...</td>\n",
       "      <td>NaN</td>\n",
       "    </tr>\n",
       "    <tr>\n",
       "      <th>2</th>\n",
       "      <td>3</td>\n",
       "      <td>softwarenewpad</td>\n",
       "      <td>https://daryna.blogtivity.id/accounts/blogdeta...</td>\n",
       "      <td>NaN</td>\n",
       "    </tr>\n",
       "    <tr>\n",
       "      <th>3</th>\n",
       "      <td>4</td>\n",
       "      <td>thesbreview</td>\n",
       "      <td>https://daryna.blogtivity.id/accounts/blogdeta...</td>\n",
       "      <td>NaN</td>\n",
       "    </tr>\n",
       "    <tr>\n",
       "      <th>4</th>\n",
       "      <td>5</td>\n",
       "      <td>carautosports</td>\n",
       "      <td>https://daryna.blogtivity.id/accounts/blogdeta...</td>\n",
       "      <td>NaN</td>\n",
       "    </tr>\n",
       "    <tr>\n",
       "      <th>...</th>\n",
       "      <td>...</td>\n",
       "      <td>...</td>\n",
       "      <td>...</td>\n",
       "      <td>...</td>\n",
       "    </tr>\n",
       "    <tr>\n",
       "      <th>1550</th>\n",
       "      <td>1551</td>\n",
       "      <td>Food Manor</td>\n",
       "      <td>https://daryna.blogtivity.id/accounts/blogdeta...</td>\n",
       "      <td>NaN</td>\n",
       "    </tr>\n",
       "    <tr>\n",
       "      <th>1551</th>\n",
       "      <td>1552</td>\n",
       "      <td>Food Lounge</td>\n",
       "      <td>https://daryna.blogtivity.id/accounts/blogdeta...</td>\n",
       "      <td>NaN</td>\n",
       "    </tr>\n",
       "    <tr>\n",
       "      <th>1552</th>\n",
       "      <td>1553</td>\n",
       "      <td>Food Lobby</td>\n",
       "      <td>https://daryna.blogtivity.id/accounts/blogdeta...</td>\n",
       "      <td>NaN</td>\n",
       "    </tr>\n",
       "    <tr>\n",
       "      <th>1553</th>\n",
       "      <td>1554</td>\n",
       "      <td>Food Lane</td>\n",
       "      <td>https://daryna.blogtivity.id/accounts/blogdeta...</td>\n",
       "      <td>NaN</td>\n",
       "    </tr>\n",
       "    <tr>\n",
       "      <th>1554</th>\n",
       "      <td>1555</td>\n",
       "      <td>Food Lab</td>\n",
       "      <td>https://daryna.blogtivity.id/accounts/blogdeta...</td>\n",
       "      <td>NaN</td>\n",
       "    </tr>\n",
       "  </tbody>\n",
       "</table>\n",
       "<p>1555 rows × 4 columns</p>\n",
       "</div>"
      ],
      "text/plain": [
       "        id      blog_title                                           blog_url  \\\n",
       "0        1     szilviolvas  https://daryna.blogtivity.id/accounts/blogdeta...   \n",
       "1        2  thesoftwaretop  https://daryna.blogtivity.id/accounts/blogdeta...   \n",
       "2        3  softwarenewpad  https://daryna.blogtivity.id/accounts/blogdeta...   \n",
       "3        4     thesbreview  https://daryna.blogtivity.id/accounts/blogdeta...   \n",
       "4        5   carautosports  https://daryna.blogtivity.id/accounts/blogdeta...   \n",
       "...    ...             ...                                                ...   \n",
       "1550  1551      Food Manor  https://daryna.blogtivity.id/accounts/blogdeta...   \n",
       "1551  1552     Food Lounge  https://daryna.blogtivity.id/accounts/blogdeta...   \n",
       "1552  1553      Food Lobby  https://daryna.blogtivity.id/accounts/blogdeta...   \n",
       "1553  1554       Food Lane  https://daryna.blogtivity.id/accounts/blogdeta...   \n",
       "1554  1555        Food Lab  https://daryna.blogtivity.id/accounts/blogdeta...   \n",
       "\n",
       "      xml  \n",
       "0     NaN  \n",
       "1     NaN  \n",
       "2     NaN  \n",
       "3     NaN  \n",
       "4     NaN  \n",
       "...   ...  \n",
       "1550  NaN  \n",
       "1551  NaN  \n",
       "1552  NaN  \n",
       "1553  NaN  \n",
       "1554  NaN  \n",
       "\n",
       "[1555 rows x 4 columns]"
      ]
     },
     "execution_count": 76,
     "metadata": {},
     "output_type": "execute_result"
    }
   ],
   "source": [
    "df_new[df_new[\"xml\"] != \"-\"]"
   ]
  },
  {
   "cell_type": "code",
   "execution_count": 80,
   "metadata": {},
   "outputs": [],
   "source": [
    "xml_in_dir = os.listdir(\"xmls/\"+\"food\")\n",
    "xml_assigned = df_new[df_new.xml != \"-\"][\"xml\"].to_list()"
   ]
  },
  {
   "cell_type": "code",
   "execution_count": 81,
   "metadata": {},
   "outputs": [
    {
     "data": {
      "text/plain": [
       "['blogspot-e12.xml', 'blogspot-e11.xml', 'blogspot-e10.xml', 'blogspot-e1.xml']"
      ]
     },
     "execution_count": 81,
     "metadata": {},
     "output_type": "execute_result"
    }
   ],
   "source": [
    "xml_in_dir"
   ]
  },
  {
   "cell_type": "code",
   "execution_count": 87,
   "metadata": {},
   "outputs": [],
   "source": []
  },
  {
   "cell_type": "code",
   "execution_count": 110,
   "metadata": {},
   "outputs": [
    {
     "name": "stdout",
     "output_type": "stream",
     "text": [
      "['blogspot-e12.xml', 'blogspot-e11.xml', 'blogspot-e10.xml', 'blogspot-e1.xml']\n",
      "['blogspot-e12.xml', 'blogspot-e11.xml', 'blogspot-e10.xml', 'blogspot-e1.xml', 'asd.xml']\n",
      "[]\n"
     ]
    }
   ],
   "source": [
    "print(xml_in_dir)\n",
    "print(xml_assigned)\n",
    "xml_available = [x for x in xml_in_dir if x not in xml_assigned]\n",
    "print(xml_available)"
   ]
  },
  {
   "cell_type": "code",
   "execution_count": null,
   "metadata": {},
   "outputs": [],
   "source": []
  },
  {
   "cell_type": "code",
   "execution_count": 96,
   "metadata": {},
   "outputs": [
    {
     "data": {
      "text/plain": [
       "[]"
      ]
     },
     "execution_count": 96,
     "metadata": {},
     "output_type": "execute_result"
    }
   ],
   "source": [
    "xml_available"
   ]
  },
  {
   "cell_type": "code",
   "execution_count": 89,
   "metadata": {},
   "outputs": [
    {
     "data": {
      "text/plain": [
       "['blogspot-e12.xml',\n",
       " 'blogspot-e11.xml',\n",
       " 'blogspot-e10.xml',\n",
       " 'blogspot-e1.xml',\n",
       " 'asd.xml']"
      ]
     },
     "execution_count": 89,
     "metadata": {},
     "output_type": "execute_result"
    }
   ],
   "source": [
    "xml_assigned"
   ]
  },
  {
   "cell_type": "code",
   "execution_count": null,
   "metadata": {},
   "outputs": [],
   "source": []
  }
 ],
 "metadata": {
  "kernelspec": {
   "display_name": "Python 3",
   "language": "python",
   "name": "python3"
  },
  "language_info": {
   "codemirror_mode": {
    "name": "ipython",
    "version": 3
   },
   "file_extension": ".py",
   "mimetype": "text/x-python",
   "name": "python",
   "nbconvert_exporter": "python",
   "pygments_lexer": "ipython3",
   "version": "3.8.5"
  }
 },
 "nbformat": 4,
 "nbformat_minor": 4
}
