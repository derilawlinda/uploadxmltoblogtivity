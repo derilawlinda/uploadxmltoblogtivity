{
 "cells": [
  {
   "cell_type": "code",
   "execution_count": 150,
   "metadata": {},
   "outputs": [],
   "source": [
    "import requests\n",
    "from requests_toolbelt.multipart.encoder import MultipartEncoder\n",
    "import pandas as pd\n",
    "from bs4 import BeautifulSoup\n",
    "import os\n",
    "import argparse\n",
    "\n",
    "class BlogtivityUploadBot :\n",
    "    def __init__(self,userid,pwd):\n",
    "        self.__userid = userid\n",
    "        self.__pwd = pwd\n",
    "\n",
    "    def __confirm_prompt(self,question: str) -> bool:\n",
    "        reply = None\n",
    "        while reply not in (\"\", \"y\", \"n\"):\n",
    "            reply = input(f\"{question} (Y/n): \").lower()\n",
    "        return (reply in (\"\", \"y\"))\n",
    "    \n",
    "    def upload(self,cari) :\n",
    "        api = \"https://daryna.blogtivity.id/log/login\"\n",
    "        body = \"username=\"+self.__userid+\"&password=\"+self.__pwd\n",
    "        with requests.Session() as s:\n",
    "            print(\"Logging in to blogtivity..\")\n",
    "            req = s.get(\"https://daryna.blogtivity.id/log/\")\n",
    "            cookie = {'PHPSESSID': req.cookies['PHPSESSID']}\n",
    "            r = s.post(api, data=body, cookies=cookie,headers={\n",
    "            \"Host\": \"daryna.blogtivity.id\",\n",
    "            \"Accept\": \"text/html,application/xhtml+xml,application/xml;q=0.9,image/avif,image/webp,image/apng,*/*;q=0.8,application/signed-exchange;v=b3;q=0.9\",\n",
    "            \"Accept-Encoding\": \"gzip, deflate, br\",\n",
    "            \"Accept-Language\": \"id-ID,id;q=0.9,en-US;q=0.8,en;q=0.7,af;q=0.6,ms;q=0.5\",\n",
    "            \"Cache-Control\": \"max-age=0\",\n",
    "            \"Content-Length\": str(len(body)),\n",
    "            \"Content-Type\": \"application/x-www-form-urlencoded\",\n",
    "            \"Origin\": \"https://daryna.blogtivity.id\",\n",
    "            \"Referer\": \"https://daryna.blogtivity.id/log/index/status/EhjT1YDERZ5gxbLl5pYoMwgQY2kEtwW4M1RBRWJ0SnlzQkRGT2JvRVMxSGJsQT09nw8WiR3yjLWv4UZ5iTJ7E1cDqQCYjUGG\",\n",
    "            \"Upgrade-Insecure-Requests\": \"1\",\n",
    "            \"User-Agent\" : \"Mozilla/5.0 (Macintosh; Intel Mac OS X 10_15_7) AppleWebKit/537.36 (KHTML, like Gecko) Chrome/92.0.4515.159 Safari/537.36\"\n",
    "            })\n",
    "            if \"Blogtivity Admin | Dashboard\" in r.text:\n",
    "                print(\"Logged in\")\n",
    "                print(\"Cek untuk data baru..\")\n",
    "                blogs = s.get(\"https://daryna.blogtivity.id/accounts/blog\",cookies=cookie)\n",
    "                soup = BeautifulSoup(blogs.text, \"html.parser\")\n",
    "                rows = soup.find_all('table')[0].find_all(\"tr\")\n",
    "                df_new = pd.DataFrame()  \n",
    "                for row in rows:\n",
    "                    cells = row.find_all('td')\n",
    "                    if(len(cells) > 0):\n",
    "                        new_row = {\n",
    "                            \"id\" : cells[0].text,\n",
    "                            \"blog_title\" : cells[2].text,\n",
    "                            \"blog_url\" : cells[2].find('a')['href'],\n",
    "                            \"xml\" : None\n",
    "                        }\n",
    "                        df_new = df_new.append(new_row, ignore_index=True)\n",
    "                if os.path.isfile(\"blogs.csv\") :\n",
    "                    df_old = pd.read_csv(\"blogs.csv\")\n",
    "                    if not df_new.equals(df_old) :\n",
    "                        df_diff = (len(df_new) - len(df_old))\n",
    "                        print(\"Sinkronisasi data baru dan lama..\")\n",
    "                        if df_diff > 0:\n",
    "                            print(\"Terdapat penambahan {df_diff} blog\".format(df_diff = df_diff))\n",
    "                        elif df_diff < 0:\n",
    "                            print(\"Terdapat pengurangan {df_diff} blog\".format(df_diff = df_diff))\n",
    "                            \n",
    "                        df_new['xml'] = df_new['id'].map(df_old.set_index('id')['xml'])\n",
    "                else :\n",
    "                    df_new.set_index('id')\n",
    "                    df_new.to_csv(\"blogs.csv\",index=False)\n",
    "                        \n",
    "                if cari != \"\" :\n",
    "                    print(\"Pencarian blog dengan topik {0}\".format(cari))\n",
    "                    df_filtered = df_new[df_new['blog_title'].str.contains(cari,case=False)]\n",
    "                    df_filtered.sort_values(by=['blog_title'])\n",
    "                    self.__uploadToBlogtivity(cari,df_filtered=df_filtered,df_new = df_new,s=s,cookie=cookie)\n",
    "                        \n",
    "                else :\n",
    "                    \n",
    "                    reply = self.__confirm_prompt(\"Akan mengupload semua file xml di dalam folder xmls ke seluruh blog ? \")\n",
    "                    if reply :\n",
    "                        df_filtered = df_new\n",
    "                        df_filtered.sort_values(by=['blog_title'])\n",
    "                        self.__uploadToBlogtivity(cari=\"\",df_filtered = df_filtered,df_new = df_new,s=s,cookie=cookie)\n",
    "                    else :\n",
    "                        cari = input('Ketik kategori : ')\n",
    "                        df_filtered = df_new[df_new['blog_title'].str.contains(cari,case=False)]\n",
    "                        df_filtered.sort_values(by=['blog_title'])\n",
    "                        self.__uploadToBlogtivity(cari,df_filtered=df_filtered,df_new = df_new,s=s,cookie=cookie)\n",
    "    \n",
    "    \n",
    "                    \n",
    "    def __uploadToBlogtivity(self,cari,df_filtered,df_new,s,cookie) :\n",
    "        \n",
    "        if cari != \"\" :\n",
    "            if not os.path.isdir(\"xmls/\"+cari) :\n",
    "                print(\"Tidak ada folder {0} di dalam folder xmls\".format(cari))\n",
    "                return False\n",
    "        xml_in_dir = os.listdir(\"xmls/\"+cari)\n",
    "        xml_assigned = df_new[df_new.xml.notnull()][\"xml\"].to_list()\n",
    "        xml_available = [x for x in xml_in_dir if x[0] not in xml_assigned]\n",
    "        if len(xml_available) == 0 :\n",
    "            print(\"XML sudah digunakan di semua blog\")\n",
    "            return False\n",
    "\n",
    "        counter = 0\n",
    "        all_blog = len(df_filtered)\n",
    "        if(len(df_filtered)> 0) :\n",
    "            for index, row in df_filtered.iterrows():\n",
    "                if 0 <= counter < len(xml_available):\n",
    "                    print(row['id'])\n",
    "                    print(df_new.at[row[\"id\"], 'xml'] = xml_file_name)\n",
    "#                     xml_file_name = xml_available[counter]\n",
    "#                     blog_id = ''\n",
    "#                     with requests.Session() as s2:\n",
    "#                         get_id_req = s2.get(row[\"blog_url\"],cookies=cookie)\n",
    "#                         blog_page_soup = BeautifulSoup(get_id_req.text, \"html.parser\")\n",
    "#                         blog_id = blog_page_soup.find_all('form')[1].find('input')[\"value\"]\n",
    "#                     if blog_id != '':\n",
    "#                         print(\"Upload {xml_file} untuk {blog_title}\".format(xml_file=xml_file_name,blog_title=row[\"blog_title\"]))\n",
    "\n",
    "#                         multipart_data = MultipartEncoder(\n",
    "#                             fields={\n",
    "#                                     'fileisi' : (xml_file_name, open('xmls/'+cari+'/'+xml_file_name,'rb')),\n",
    "#                                     'blogs': blog_id, \n",
    "#                                     'randomize': 'Y',\n",
    "#                                     'parser' : 'xml_shuriken',\n",
    "#                                     'status' : 'connect'\n",
    "#                             }\n",
    "#                         )\n",
    "#                         upload_api = \"https://daryna.blogtivity.id/posts/setimport\"\n",
    "                        \n",
    "#                         upload_xml_req = s.post(upload_api,data=multipart_data,cookies=cookie,headers={\n",
    "#                             \"Host\": \"daryna.blogtivity.id\",\n",
    "#                             \"Accept\": \"text/html,application/xhtml+xml,application/xml;q=0.9,image/avif,image/webp,image/apng,*/*;q=0.8,application/signed-exchange;v=b3;q=0.9\",\n",
    "#                             \"Accept-Encoding\": \"gzip, deflate, br\",\n",
    "#                             \"Accept-Language\": \"id-ID,id;q=0.9,en-US;q=0.8,en;q=0.7,af;q=0.6,ms;q=0.5\",\n",
    "#                             \"Cache-Control\": \"max-age=0\",\n",
    "#                             \"Content-Type\": multipart_data.content_type,\n",
    "#                             \"Origin\": \"https://daryna.blogtivity.id\",\n",
    "#                             \"Referer\": \"https://daryna.blogtivity.id/accounts/blog\",\n",
    "#                             \"Upgrade-Insecure-Requests\": \"1\",\n",
    "#                             \"User-Agent\" : \"Mozilla/5.0 (Macintosh; Intel Mac OS X 10_15_7) AppleWebKit/537.36 (KHTML, like Gecko) Chrome/92.0.4515.159 Safari/537.36\"\n",
    "#                             })\n",
    "#                         if upload_xml_req.status_code == 200 :\n",
    "#                             df_new.at[row[\"id\"], 'xml'] = xml_file_name\n",
    "#                             if int(counter) != int(all_blog) :\n",
    "#                                 counter += 1\n",
    "#                                 df_new.to_csv(\"blogs.csv\",index=False)\n",
    "#                                 print(\"Upload berhasil {counter} / {all_blog} \".format(counter=counter,all_blog=all_blog))\n",
    "#                             else :\n",
    "#                                 print(\"ALL DONE\")\n",
    "#                                 df_new.to_csv(\"blogs.csv\",index=False)\n",
    "#                                 return True\n",
    "#                     else :\n",
    "#                         print(\"Gagal mendapatkan ID blog\")\n",
    "#                         pass\n",
    "                else :\n",
    "                    print(\"XML yang tersedia tidak cukup untuk semua blog\")\n",
    "                    df_new.to_csv(\"blogs.csv\",index=False)\n",
    "                    return True\n",
    "        else :\n",
    "            print(\"Topik tidak ditemukan\")\n",
    "            return False"
   ]
  },
  {
   "cell_type": "code",
   "execution_count": 151,
   "metadata": {},
   "outputs": [],
   "source": [
    "parser = argparse.ArgumentParser(description='Bot untuk upload file xml ke Blogtivity')\n",
    "parser.add_argument(\"--topik\", help=\"Topik yang dicari, pastikan ada folder dengan nama topik yang sama di folder xmls\", default=\"\")\n",
    "upass = open(\"username.txt\").read()\n",
    "upass_split = upass.split(\"\\n\")\n",
    "userid = upass_split[0].split(\":\")[1].strip()\n",
    "pwd = upass_split[1].split(\":\")[1].strip()\n",
    "# args = parser.parse_args()\n"
   ]
  },
  {
   "cell_type": "code",
   "execution_count": 153,
   "metadata": {},
   "outputs": [
    {
     "name": "stdout",
     "output_type": "stream",
     "text": [
      "Logging in to blogtivity..\n",
      "Logged in\n",
      "Cek untuk data baru..\n",
      "Pencarian blog dengan topik Food\n",
      "1502\n",
      "1503\n",
      "1504\n",
      "1505\n",
      "1506\n",
      "1507\n",
      "1508\n",
      "1509\n",
      "1510\n",
      "1511\n",
      "1512\n",
      "1513\n",
      "1514\n",
      "1515\n",
      "1516\n",
      "1517\n",
      "1518\n",
      "1519\n",
      "1520\n",
      "1521\n",
      "1522\n",
      "1523\n",
      "1524\n",
      "1525\n",
      "1526\n",
      "1527\n",
      "1528\n",
      "1529\n",
      "1530\n",
      "1531\n",
      "1532\n",
      "1533\n",
      "1534\n",
      "1535\n",
      "1536\n",
      "1537\n",
      "1538\n",
      "1539\n",
      "1540\n",
      "1541\n",
      "1542\n",
      "1543\n",
      "1544\n",
      "1545\n",
      "1546\n",
      "1547\n",
      "1548\n",
      "1549\n",
      "1550\n",
      "1551\n",
      "1552\n",
      "1553\n",
      "1554\n",
      "1555\n"
     ]
    }
   ],
   "source": [
    "a = BlogtivityUploadBot(userid,pwd)\n",
    "b = a.upload(cari='Food')"
   ]
  },
  {
   "cell_type": "code",
   "execution_count": null,
   "metadata": {},
   "outputs": [],
   "source": [
    "df_new"
   ]
  },
  {
   "cell_type": "code",
   "execution_count": null,
   "metadata": {},
   "outputs": [],
   "source": [
    "cari = \"\"\n",
    "xml_file_name = 'blogspot-e1.xml'\n",
    "open('xmls/'+cari+'/'+xml_file_name,'rb')"
   ]
  },
  {
   "cell_type": "code",
   "execution_count": null,
   "metadata": {},
   "outputs": [],
   "source": [
    "old = pd.read_csv(\"blogs_filled.csv\")\n",
    "new = pd.read_csv(\"blogs_test.csv\")"
   ]
  },
  {
   "cell_type": "code",
   "execution_count": null,
   "metadata": {},
   "outputs": [],
   "source": [
    "xml_assigned = old[old.xml.notnull()][\"xml\"].to_list()\n",
    "xml_assigned"
   ]
  },
  {
   "cell_type": "code",
   "execution_count": null,
   "metadata": {},
   "outputs": [],
   "source": [
    "new = new.combine_first(old)\n",
    "new"
   ]
  },
  {
   "cell_type": "code",
   "execution_count": null,
   "metadata": {},
   "outputs": [],
   "source": [
    "new.at[1, 'xml'] = \"blogspot-e50.xml\""
   ]
  },
  {
   "cell_type": "code",
   "execution_count": null,
   "metadata": {},
   "outputs": [],
   "source": [
    "new"
   ]
  },
  {
   "cell_type": "code",
   "execution_count": null,
   "metadata": {},
   "outputs": [],
   "source": [
    "new = new.combine_first(old)"
   ]
  },
  {
   "cell_type": "code",
   "execution_count": null,
   "metadata": {},
   "outputs": [],
   "source": [
    "new.drop([1],axis=0)"
   ]
  },
  {
   "cell_type": "code",
   "execution_count": null,
   "metadata": {},
   "outputs": [],
   "source": [
    "new = new.combine_first(old)"
   ]
  },
  {
   "cell_type": "code",
   "execution_count": null,
   "metadata": {},
   "outputs": [],
   "source": [
    "new"
   ]
  },
  {
   "cell_type": "code",
   "execution_count": null,
   "metadata": {},
   "outputs": [],
   "source": [
    "new['xml'] = new['id'].map(old.set_index('id')['xml'])"
   ]
  },
  {
   "cell_type": "code",
   "execution_count": null,
   "metadata": {},
   "outputs": [],
   "source": [
    "new"
   ]
  },
  {
   "cell_type": "code",
   "execution_count": null,
   "metadata": {},
   "outputs": [],
   "source": [
    "new = pd.read_csv('blogs.csv')\n",
    "old = pd.read_csv('blogs_filled.csv')"
   ]
  },
  {
   "cell_type": "code",
   "execution_count": null,
   "metadata": {},
   "outputs": [],
   "source": [
    "new['xml'] = new['id'].map(old.set_index('id')['xml'])"
   ]
  },
  {
   "cell_type": "code",
   "execution_count": null,
   "metadata": {},
   "outputs": [],
   "source": [
    "new[new.blog_title == 'Food Chateau']"
   ]
  },
  {
   "cell_type": "code",
   "execution_count": null,
   "metadata": {},
   "outputs": [],
   "source": [
    "new.duplicated(subset=['blog_title']).sum()"
   ]
  },
  {
   "cell_type": "code",
   "execution_count": null,
   "metadata": {},
   "outputs": [],
   "source": [
    "new.drop(columns=new.columns[0], \n",
    "        axis=1, \n",
    "        inplace=True)\n"
   ]
  },
  {
   "cell_type": "code",
   "execution_count": null,
   "metadata": {},
   "outputs": [],
   "source": [
    "new.to_csv(\"blogs.csv\",index=False)"
   ]
  },
  {
   "cell_type": "code",
   "execution_count": null,
   "metadata": {},
   "outputs": [],
   "source": [
    "old = pd.read_csv('blogs_filled.csv')"
   ]
  },
  {
   "cell_type": "code",
   "execution_count": null,
   "metadata": {},
   "outputs": [],
   "source": [
    "old.drop(columns=old.columns[0], \n",
    "        axis=1, \n",
    "        inplace=True)"
   ]
  },
  {
   "cell_type": "code",
   "execution_count": null,
   "metadata": {},
   "outputs": [],
   "source": [
    "old.to_csv(\"blogs_filled.csv\",index=False)"
   ]
  },
  {
   "cell_type": "code",
   "execution_count": null,
   "metadata": {},
   "outputs": [],
   "source": [
    "old.reset_index()\n",
    "old.to_csv(\"blogs_filled.csv\")"
   ]
  },
  {
   "cell_type": "code",
   "execution_count": null,
   "metadata": {},
   "outputs": [],
   "source": [
    "new.sort_values(['blog_title', 'blog_url'], ascending=True)"
   ]
  },
  {
   "cell_type": "code",
   "execution_count": null,
   "metadata": {},
   "outputs": [],
   "source": [
    "old.sort_values(['blog_title', 'blog_url'], ascending=True)"
   ]
  },
  {
   "cell_type": "code",
   "execution_count": null,
   "metadata": {},
   "outputs": [],
   "source": [
    "old"
   ]
  },
  {
   "cell_type": "code",
   "execution_count": null,
   "metadata": {},
   "outputs": [],
   "source": [
    "api = \"https://daryna.blogtivity.id/log/login\"\n",
    "body = \"username=\"+\"axa_suksesd640e\"+\"&password=\"+\"derilalwinda#\"\n",
    "with requests.Session() as s:\n",
    "    print(\"Logging in to blogtivitiy..\")\n",
    "    req = s.get(\"https://daryna.blogtivity.id/log/\")\n",
    "    cookie = {'PHPSESSID': req.cookies['PHPSESSID']}\n",
    "    r = s.post(api, data=body, cookies=cookie,headers={\n",
    "    \"Host\": \"daryna.blogtivity.id\",\n",
    "    \"Accept\": \"text/html,application/xhtml+xml,application/xml;q=0.9,image/avif,image/webp,image/apng,*/*;q=0.8,application/signed-exchange;v=b3;q=0.9\",\n",
    "    \"Accept-Encoding\": \"gzip, deflate, br\",\n",
    "    \"Accept-Language\": \"id-ID,id;q=0.9,en-US;q=0.8,en;q=0.7,af;q=0.6,ms;q=0.5\",\n",
    "    \"Cache-Control\": \"max-age=0\",\n",
    "    \"Content-Length\": str(len(body)),\n",
    "    \"Content-Type\": \"application/x-www-form-urlencoded\",\n",
    "    \"Origin\": \"https://daryna.blogtivity.id\",\n",
    "    \"Referer\": \"https://daryna.blogtivity.id/log/index/status/EhjT1YDERZ5gxbLl5pYoMwgQY2kEtwW4M1RBRWJ0SnlzQkRGT2JvRVMxSGJsQT09nw8WiR3yjLWv4UZ5iTJ7E1cDqQCYjUGG\",\n",
    "    \"Upgrade-Insecure-Requests\": \"1\",\n",
    "    \"User-Agent\" : \"Mozilla/5.0 (Macintosh; Intel Mac OS X 10_15_7) AppleWebKit/537.36 (KHTML, like Gecko) Chrome/92.0.4515.159 Safari/537.36\"\n",
    "    })\n",
    "    if \"Blogtivity Admin | Dashboard\" in r.text:\n",
    "        print(\"Logged in\")\n",
    "        print(\"Cek untuk data baru..\")\n",
    "        blogs = s.get(\"https://daryna.blogtivity.id/accounts/blog\",cookies=cookie)\n",
    "        soup = BeautifulSoup(blogs.text, \"html.parser\")\n",
    "        rows = soup.find_all('table')[0].find_all(\"tr\")\n",
    "        "
   ]
  },
  {
   "cell_type": "code",
   "execution_count": null,
   "metadata": {},
   "outputs": [],
   "source": [
    "rows = soup.find_all('table')[0].find('tbody').find_all(\"tr\")\n",
    "len(rows)"
   ]
  },
  {
   "cell_type": "code",
   "execution_count": null,
   "metadata": {},
   "outputs": [],
   "source": [
    "for row in rows:\n",
    "    cells = row.find_all('td')\n",
    "    print(cells[0])\n"
   ]
  },
  {
   "cell_type": "code",
   "execution_count": null,
   "metadata": {},
   "outputs": [],
   "source": [
    "rows[0].find_all('td')[2].find('a')['href']"
   ]
  },
  {
   "cell_type": "code",
   "execution_count": null,
   "metadata": {},
   "outputs": [],
   "source": [
    "get_id_req = s.get(\"https://daryna.blogtivity.id/accounts/blogdetails/data/whR09SXl34hxynGyvhAnfo8ztSlOb5fEUTZqZ01ta2UyZmtZL0JXSVcyRlZGQT09YLq1IbqdOPMer78O4PYfxinoLjcuTLXv\",cookies=cookie)\n",
    "soup2 = BeautifulSoup(get_id_req.text, \"html.parser\")\n"
   ]
  },
  {
   "cell_type": "code",
   "execution_count": null,
   "metadata": {},
   "outputs": [],
   "source": [
    "soup2.find_all('form')[1].find('input')[\"value\"]"
   ]
  },
  {
   "cell_type": "code",
   "execution_count": 154,
   "metadata": {},
   "outputs": [],
   "source": [
    "df_new = pd.read_csv('blogs.csv')"
   ]
  },
  {
   "cell_type": "code",
   "execution_count": 155,
   "metadata": {},
   "outputs": [
    {
     "data": {
      "text/html": [
       "<div>\n",
       "<style scoped>\n",
       "    .dataframe tbody tr th:only-of-type {\n",
       "        vertical-align: middle;\n",
       "    }\n",
       "\n",
       "    .dataframe tbody tr th {\n",
       "        vertical-align: top;\n",
       "    }\n",
       "\n",
       "    .dataframe thead th {\n",
       "        text-align: right;\n",
       "    }\n",
       "</style>\n",
       "<table border=\"1\" class=\"dataframe\">\n",
       "  <thead>\n",
       "    <tr style=\"text-align: right;\">\n",
       "      <th></th>\n",
       "      <th>blog_title</th>\n",
       "      <th>blog_url</th>\n",
       "      <th>xml</th>\n",
       "    </tr>\n",
       "    <tr>\n",
       "      <th>id</th>\n",
       "      <th></th>\n",
       "      <th></th>\n",
       "      <th></th>\n",
       "    </tr>\n",
       "  </thead>\n",
       "  <tbody>\n",
       "    <tr>\n",
       "      <th>1</th>\n",
       "      <td>szilviolvas</td>\n",
       "      <td>https://daryna.blogtivity.id/accounts/blogdeta...</td>\n",
       "      <td>NaN</td>\n",
       "    </tr>\n",
       "    <tr>\n",
       "      <th>2</th>\n",
       "      <td>thesoftwaretop</td>\n",
       "      <td>https://daryna.blogtivity.id/accounts/blogdeta...</td>\n",
       "      <td>NaN</td>\n",
       "    </tr>\n",
       "    <tr>\n",
       "      <th>3</th>\n",
       "      <td>softwarenewpad</td>\n",
       "      <td>https://daryna.blogtivity.id/accounts/blogdeta...</td>\n",
       "      <td>NaN</td>\n",
       "    </tr>\n",
       "    <tr>\n",
       "      <th>4</th>\n",
       "      <td>thesbreview</td>\n",
       "      <td>https://daryna.blogtivity.id/accounts/blogdeta...</td>\n",
       "      <td>NaN</td>\n",
       "    </tr>\n",
       "    <tr>\n",
       "      <th>5</th>\n",
       "      <td>carautosports</td>\n",
       "      <td>https://daryna.blogtivity.id/accounts/blogdeta...</td>\n",
       "      <td>NaN</td>\n",
       "    </tr>\n",
       "    <tr>\n",
       "      <th>...</th>\n",
       "      <td>...</td>\n",
       "      <td>...</td>\n",
       "      <td>...</td>\n",
       "    </tr>\n",
       "    <tr>\n",
       "      <th>1551</th>\n",
       "      <td>Food Manor</td>\n",
       "      <td>https://daryna.blogtivity.id/accounts/blogdeta...</td>\n",
       "      <td>NaN</td>\n",
       "    </tr>\n",
       "    <tr>\n",
       "      <th>1552</th>\n",
       "      <td>Food Lounge</td>\n",
       "      <td>https://daryna.blogtivity.id/accounts/blogdeta...</td>\n",
       "      <td>NaN</td>\n",
       "    </tr>\n",
       "    <tr>\n",
       "      <th>1553</th>\n",
       "      <td>Food Lobby</td>\n",
       "      <td>https://daryna.blogtivity.id/accounts/blogdeta...</td>\n",
       "      <td>NaN</td>\n",
       "    </tr>\n",
       "    <tr>\n",
       "      <th>1554</th>\n",
       "      <td>Food Lane</td>\n",
       "      <td>https://daryna.blogtivity.id/accounts/blogdeta...</td>\n",
       "      <td>NaN</td>\n",
       "    </tr>\n",
       "    <tr>\n",
       "      <th>1555</th>\n",
       "      <td>Food Lab</td>\n",
       "      <td>https://daryna.blogtivity.id/accounts/blogdeta...</td>\n",
       "      <td>NaN</td>\n",
       "    </tr>\n",
       "  </tbody>\n",
       "</table>\n",
       "<p>1555 rows × 3 columns</p>\n",
       "</div>"
      ],
      "text/plain": [
       "          blog_title                                           blog_url  xml\n",
       "id                                                                          \n",
       "1        szilviolvas  https://daryna.blogtivity.id/accounts/blogdeta...  NaN\n",
       "2     thesoftwaretop  https://daryna.blogtivity.id/accounts/blogdeta...  NaN\n",
       "3     softwarenewpad  https://daryna.blogtivity.id/accounts/blogdeta...  NaN\n",
       "4        thesbreview  https://daryna.blogtivity.id/accounts/blogdeta...  NaN\n",
       "5      carautosports  https://daryna.blogtivity.id/accounts/blogdeta...  NaN\n",
       "...              ...                                                ...  ...\n",
       "1551      Food Manor  https://daryna.blogtivity.id/accounts/blogdeta...  NaN\n",
       "1552     Food Lounge  https://daryna.blogtivity.id/accounts/blogdeta...  NaN\n",
       "1553      Food Lobby  https://daryna.blogtivity.id/accounts/blogdeta...  NaN\n",
       "1554       Food Lane  https://daryna.blogtivity.id/accounts/blogdeta...  NaN\n",
       "1555        Food Lab  https://daryna.blogtivity.id/accounts/blogdeta...  NaN\n",
       "\n",
       "[1555 rows x 3 columns]"
      ]
     },
     "execution_count": 155,
     "metadata": {},
     "output_type": "execute_result"
    }
   ],
   "source": [
    "df_new.set_index('id')"
   ]
  },
  {
   "cell_type": "code",
   "execution_count": 156,
   "metadata": {},
   "outputs": [
    {
     "data": {
      "text/html": [
       "<div>\n",
       "<style scoped>\n",
       "    .dataframe tbody tr th:only-of-type {\n",
       "        vertical-align: middle;\n",
       "    }\n",
       "\n",
       "    .dataframe tbody tr th {\n",
       "        vertical-align: top;\n",
       "    }\n",
       "\n",
       "    .dataframe thead th {\n",
       "        text-align: right;\n",
       "    }\n",
       "</style>\n",
       "<table border=\"1\" class=\"dataframe\">\n",
       "  <thead>\n",
       "    <tr style=\"text-align: right;\">\n",
       "      <th></th>\n",
       "      <th>blog_title</th>\n",
       "      <th>blog_url</th>\n",
       "      <th>id</th>\n",
       "      <th>xml</th>\n",
       "    </tr>\n",
       "  </thead>\n",
       "  <tbody>\n",
       "    <tr>\n",
       "      <th>0</th>\n",
       "      <td>szilviolvas</td>\n",
       "      <td>https://daryna.blogtivity.id/accounts/blogdeta...</td>\n",
       "      <td>1</td>\n",
       "      <td>NaN</td>\n",
       "    </tr>\n",
       "    <tr>\n",
       "      <th>1</th>\n",
       "      <td>thesoftwaretop</td>\n",
       "      <td>https://daryna.blogtivity.id/accounts/blogdeta...</td>\n",
       "      <td>2</td>\n",
       "      <td>NaN</td>\n",
       "    </tr>\n",
       "    <tr>\n",
       "      <th>2</th>\n",
       "      <td>softwarenewpad</td>\n",
       "      <td>https://daryna.blogtivity.id/accounts/blogdeta...</td>\n",
       "      <td>3</td>\n",
       "      <td>NaN</td>\n",
       "    </tr>\n",
       "    <tr>\n",
       "      <th>3</th>\n",
       "      <td>thesbreview</td>\n",
       "      <td>https://daryna.blogtivity.id/accounts/blogdeta...</td>\n",
       "      <td>4</td>\n",
       "      <td>NaN</td>\n",
       "    </tr>\n",
       "    <tr>\n",
       "      <th>4</th>\n",
       "      <td>carautosports</td>\n",
       "      <td>https://daryna.blogtivity.id/accounts/blogdeta...</td>\n",
       "      <td>5</td>\n",
       "      <td>NaN</td>\n",
       "    </tr>\n",
       "    <tr>\n",
       "      <th>...</th>\n",
       "      <td>...</td>\n",
       "      <td>...</td>\n",
       "      <td>...</td>\n",
       "      <td>...</td>\n",
       "    </tr>\n",
       "    <tr>\n",
       "      <th>1550</th>\n",
       "      <td>Food Manor</td>\n",
       "      <td>https://daryna.blogtivity.id/accounts/blogdeta...</td>\n",
       "      <td>1551</td>\n",
       "      <td>NaN</td>\n",
       "    </tr>\n",
       "    <tr>\n",
       "      <th>1551</th>\n",
       "      <td>Food Lounge</td>\n",
       "      <td>https://daryna.blogtivity.id/accounts/blogdeta...</td>\n",
       "      <td>1552</td>\n",
       "      <td>NaN</td>\n",
       "    </tr>\n",
       "    <tr>\n",
       "      <th>1552</th>\n",
       "      <td>Food Lobby</td>\n",
       "      <td>https://daryna.blogtivity.id/accounts/blogdeta...</td>\n",
       "      <td>1553</td>\n",
       "      <td>NaN</td>\n",
       "    </tr>\n",
       "    <tr>\n",
       "      <th>1553</th>\n",
       "      <td>Food Lane</td>\n",
       "      <td>https://daryna.blogtivity.id/accounts/blogdeta...</td>\n",
       "      <td>1554</td>\n",
       "      <td>NaN</td>\n",
       "    </tr>\n",
       "    <tr>\n",
       "      <th>1554</th>\n",
       "      <td>Food Lab</td>\n",
       "      <td>https://daryna.blogtivity.id/accounts/blogdeta...</td>\n",
       "      <td>1555</td>\n",
       "      <td>NaN</td>\n",
       "    </tr>\n",
       "  </tbody>\n",
       "</table>\n",
       "<p>1555 rows × 4 columns</p>\n",
       "</div>"
      ],
      "text/plain": [
       "          blog_title                                           blog_url    id  \\\n",
       "0        szilviolvas  https://daryna.blogtivity.id/accounts/blogdeta...     1   \n",
       "1     thesoftwaretop  https://daryna.blogtivity.id/accounts/blogdeta...     2   \n",
       "2     softwarenewpad  https://daryna.blogtivity.id/accounts/blogdeta...     3   \n",
       "3        thesbreview  https://daryna.blogtivity.id/accounts/blogdeta...     4   \n",
       "4      carautosports  https://daryna.blogtivity.id/accounts/blogdeta...     5   \n",
       "...              ...                                                ...   ...   \n",
       "1550      Food Manor  https://daryna.blogtivity.id/accounts/blogdeta...  1551   \n",
       "1551     Food Lounge  https://daryna.blogtivity.id/accounts/blogdeta...  1552   \n",
       "1552      Food Lobby  https://daryna.blogtivity.id/accounts/blogdeta...  1553   \n",
       "1553       Food Lane  https://daryna.blogtivity.id/accounts/blogdeta...  1554   \n",
       "1554        Food Lab  https://daryna.blogtivity.id/accounts/blogdeta...  1555   \n",
       "\n",
       "      xml  \n",
       "0     NaN  \n",
       "1     NaN  \n",
       "2     NaN  \n",
       "3     NaN  \n",
       "4     NaN  \n",
       "...   ...  \n",
       "1550  NaN  \n",
       "1551  NaN  \n",
       "1552  NaN  \n",
       "1553  NaN  \n",
       "1554  NaN  \n",
       "\n",
       "[1555 rows x 4 columns]"
      ]
     },
     "execution_count": 156,
     "metadata": {},
     "output_type": "execute_result"
    }
   ],
   "source": [
    "df_new"
   ]
  },
  {
   "cell_type": "code",
   "execution_count": 166,
   "metadata": {},
   "outputs": [],
   "source": [
    "df_new = pd.DataFrame()  \n",
    "new_row = {\n",
    "    \"id\" : 1,\n",
    "    \"blog_title\" : \"asd\",\n",
    "    \"blog_url\" : \"bcd\",\n",
    "    \"xml\" : \"\"\n",
    "}\n",
    "new_row2 = {\n",
    "    \"id\" : 2,\n",
    "    \"blog_title\" : \"asd\",\n",
    "    \"blog_url\" : \"bcd\",\n",
    "    \"xml\" : \"\"\n",
    "}\n",
    "df_new = df_new.append(new_row, ignore_index=True)\n",
    "df_new = df_new.append(new_row2, ignore_index=True)"
   ]
  },
  {
   "cell_type": "code",
   "execution_count": 166,
   "metadata": {},
   "outputs": [],
   "source": []
  },
  {
   "cell_type": "code",
   "execution_count": 164,
   "metadata": {},
   "outputs": [],
   "source": [
    "xml_assigned = df_new[df_new.xml != ''][\"xml\"].to_list()"
   ]
  },
  {
   "cell_type": "code",
   "execution_count": 165,
   "metadata": {},
   "outputs": [
    {
     "data": {
      "text/plain": [
       "[]"
      ]
     },
     "execution_count": 165,
     "metadata": {},
     "output_type": "execute_result"
    }
   ],
   "source": [
    "xml_assigned"
   ]
  },
  {
   "cell_type": "code",
   "execution_count": null,
   "metadata": {},
   "outputs": [],
   "source": []
  }
 ],
 "metadata": {
  "kernelspec": {
   "display_name": "Python 3",
   "language": "python",
   "name": "python3"
  },
  "language_info": {
   "codemirror_mode": {
    "name": "ipython",
    "version": 3
   },
   "file_extension": ".py",
   "mimetype": "text/x-python",
   "name": "python",
   "nbconvert_exporter": "python",
   "pygments_lexer": "ipython3",
   "version": "3.8.5"
  }
 },
 "nbformat": 4,
 "nbformat_minor": 4
}
