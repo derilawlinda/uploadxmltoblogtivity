{
 "cells": [
  {
   "cell_type": "code",
   "execution_count": 1,
   "metadata": {},
   "outputs": [],
   "source": [
    "from numpy.core.numeric import NaN\n",
    "import requests\n",
    "from requests_toolbelt.multipart.encoder import MultipartEncoder\n",
    "import pandas as pd\n",
    "from bs4 import BeautifulSoup\n",
    "import os\n",
    "import argparse\n",
    "from halo import Halo"
   ]
  },
  {
   "cell_type": "code",
   "execution_count": 2,
   "metadata": {},
   "outputs": [
    {
     "ename": "NameError",
     "evalue": "name 'self' is not defined",
     "output_type": "error",
     "traceback": [
      "\u001b[0;31m---------------------------------------------------------------------------\u001b[0m",
      "\u001b[0;31mNameError\u001b[0m                                 Traceback (most recent call last)",
      "\u001b[0;32m<ipython-input-2-d79186ad40b4>\u001b[0m in \u001b[0;36m<module>\u001b[0;34m\u001b[0m\n\u001b[1;32m      1\u001b[0m \u001b[0mapi\u001b[0m \u001b[0;34m=\u001b[0m \u001b[0;34m\"https://daryna.blogtivity.id/log/login\"\u001b[0m\u001b[0;34m\u001b[0m\u001b[0;34m\u001b[0m\u001b[0m\n\u001b[0;32m----> 2\u001b[0;31m \u001b[0mbody\u001b[0m \u001b[0;34m=\u001b[0m \u001b[0;34m\"username=\"\u001b[0m\u001b[0;34m+\u001b[0m\u001b[0mself\u001b[0m\u001b[0;34m.\u001b[0m\u001b[0m__userid\u001b[0m\u001b[0;34m+\u001b[0m\u001b[0;34m\"&password=\"\u001b[0m\u001b[0;34m+\u001b[0m\u001b[0mself\u001b[0m\u001b[0;34m.\u001b[0m\u001b[0m__pwd\u001b[0m\u001b[0;34m\u001b[0m\u001b[0;34m\u001b[0m\u001b[0m\n\u001b[0m\u001b[1;32m      3\u001b[0m \u001b[0;32mwith\u001b[0m \u001b[0mrequests\u001b[0m\u001b[0;34m.\u001b[0m\u001b[0mSession\u001b[0m\u001b[0;34m(\u001b[0m\u001b[0;34m)\u001b[0m \u001b[0;32mas\u001b[0m \u001b[0ms\u001b[0m\u001b[0;34m:\u001b[0m\u001b[0;34m\u001b[0m\u001b[0;34m\u001b[0m\u001b[0m\n\u001b[1;32m      4\u001b[0m     \u001b[0mprint\u001b[0m\u001b[0;34m(\u001b[0m\u001b[0;34m\"Logging in to blogtivity..\"\u001b[0m\u001b[0;34m)\u001b[0m\u001b[0;34m\u001b[0m\u001b[0;34m\u001b[0m\u001b[0m\n\u001b[1;32m      5\u001b[0m     \u001b[0mreq\u001b[0m \u001b[0;34m=\u001b[0m \u001b[0ms\u001b[0m\u001b[0;34m.\u001b[0m\u001b[0mget\u001b[0m\u001b[0;34m(\u001b[0m\u001b[0;34m\"https://daryna.blogtivity.id/log/\"\u001b[0m\u001b[0;34m)\u001b[0m\u001b[0;34m\u001b[0m\u001b[0;34m\u001b[0m\u001b[0m\n",
      "\u001b[0;31mNameError\u001b[0m: name 'self' is not defined"
     ]
    }
   ],
   "source": [
    "api = \"https://daryna.blogtivity.id/log/login\"\n",
    "body = \"username=\"+\"axa_suksesd640e\"+\"&password=\"+\"derilalwinda#\"\n",
    "with requests.Session() as s:\n",
    "    print(\"Logging in to blogtivity..\")\n",
    "    req = s.get(\"https://daryna.blogtivity.id/log/\")\n",
    "    cookie = {'PHPSESSID': req.cookies['PHPSESSID']}\n",
    "    r = s.post(api, data=body, cookies=cookie,headers={\n",
    "    \"Host\": \"daryna.blogtivity.id\",\n",
    "    \"Accept\": \"text/html,application/xhtml+xml,application/xml;q=0.9,image/avif,image/webp,image/apng,*/*;q=0.8,application/signed-exchange;v=b3;q=0.9\",\n",
    "    \"Accept-Encoding\": \"gzip, deflate, br\",\n",
    "    \"Accept-Language\": \"id-ID,id;q=0.9,en-US;q=0.8,en;q=0.7,af;q=0.6,ms;q=0.5\",\n",
    "    \"Cache-Control\": \"max-age=0\",\n",
    "    \"Content-Length\": str(len(body)),\n",
    "    \"Content-Type\": \"application/x-www-form-urlencoded\",\n",
    "    \"Origin\": \"https://daryna.blogtivity.id\",\n",
    "    \"Referer\": \"https://daryna.blogtivity.id/log/index/status/EhjT1YDERZ5gxbLl5pYoMwgQY2kEtwW4M1RBRWJ0SnlzQkRGT2JvRVMxSGJsQT09nw8WiR3yjLWv4UZ5iTJ7E1cDqQCYjUGG\",\n",
    "    \"Upgrade-Insecure-Requests\": \"1\",\n",
    "    \"User-Agent\" : \"Mozilla/5.0 (Macintosh; Intel Mac OS X 10_15_7) AppleWebKit/537.36 (KHTML, like Gecko) Chrome/92.0.4515.159 Safari/537.36\"\n",
    "    })\n",
    "    if \"Blogtivity Admin | Dashboard\" in r.text:\n",
    "        print(\"Logged in\")\n",
    "        print(\"Cek untuk data baru..\")\n",
    "        blogs = s.get(\"https://daryna.blogtivity.id/accounts/blog\",cookies=cookie)\n",
    "        soup = BeautifulSoup(blogs.text, \"html.parser\")\n",
    "        rows = soup.find_all('table')[0].find_all(\"tr\")\n",
    "        df_new = pd.DataFrame()  \n",
    "        for row in rows:\n",
    "            cells = row.find_all('td')\n",
    "            if(len(cells) > 0):\n",
    "                new_row = {\n",
    "                    \"id\" : cells[0].text,\n",
    "                    \"blog_title\" : cells[2].text,\n",
    "                    \"blog_url\" : cells[2].find('a')['href'],\n",
    "                }\n",
    "                df_new = df_new.append(new_row, ignore_index=True)\n",
    "\n",
    "        df_new[\"xml\"] = \"-\"\n",
    "        df_new = df_new.set_index('id')"
   ]
  },
  {
   "cell_type": "code",
   "execution_count": null,
   "metadata": {},
   "outputs": [],
   "source": []
  }
 ],
 "metadata": {
  "kernelspec": {
   "display_name": "Python 3",
   "language": "python",
   "name": "python3"
  },
  "language_info": {
   "codemirror_mode": {
    "name": "ipython",
    "version": 3
   },
   "file_extension": ".py",
   "mimetype": "text/x-python",
   "name": "python",
   "nbconvert_exporter": "python",
   "pygments_lexer": "ipython3",
   "version": "3.8.5"
  }
 },
 "nbformat": 4,
 "nbformat_minor": 4
}
